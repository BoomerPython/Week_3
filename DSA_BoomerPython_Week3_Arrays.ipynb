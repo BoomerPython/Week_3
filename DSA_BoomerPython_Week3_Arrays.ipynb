{
  "nbformat": 4,
  "nbformat_minor": 0,
  "metadata": {
    "colab": {
      "name": "DSA_BoomerPython_Week3_Arrays.ipynb",
      "provenance": [],
      "toc_visible": true,
      "authorship_tag": "ABX9TyOZVpozVmbb+llCEkIOftqr",
      "include_colab_link": true
    },
    "kernelspec": {
      "name": "python3",
      "display_name": "Python 3"
    },
    "language_info": {
      "name": "python"
    }
  },
  "cells": [
    {
      "cell_type": "markdown",
      "metadata": {
        "id": "view-in-github",
        "colab_type": "text"
      },
      "source": [
        "<a href=\"https://colab.research.google.com/github/BoomerPython/Week_3/blob/main/DSA_BoomerPython_Week3_Arrays.ipynb\" target=\"_parent\"><img src=\"https://colab.research.google.com/assets/colab-badge.svg\" alt=\"Open In Colab\"/></a>"
      ]
    },
    {
      "cell_type": "code",
      "metadata": {
        "id": "KJ2315xzrYvo"
      },
      "source": [
        "# Code for creating and manipulating arrays\n",
        "# For week 3 of the BoomerPython class\n",
        "import numpy as np"
      ],
      "execution_count": 3,
      "outputs": []
    },
    {
      "cell_type": "markdown",
      "metadata": {
        "id": "H3xJWb0NLkjK"
      },
      "source": [
        "# Creating Arrays"
      ]
    },
    {
      "cell_type": "markdown",
      "metadata": {
        "id": "YW5eIEvzJRAE"
      },
      "source": [
        "Creating Arrays from Lists\n",
        "\n"
      ]
    },
    {
      "cell_type": "code",
      "metadata": {
        "colab": {
          "base_uri": "https://localhost:8080/"
        },
        "id": "NkfeYpXEHxLP",
        "outputId": "a46ba67e-9873-461d-bfb5-0e354de3a5d0"
      },
      "source": [
        "# Integer Arrays\n",
        "\n",
        "np.array([1, 4, 2, 4, 5])\n"
      ],
      "execution_count": null,
      "outputs": [
        {
          "output_type": "execute_result",
          "data": {
            "text/plain": [
              "array([1, 4, 2, 4, 5])"
            ]
          },
          "metadata": {
            "tags": []
          },
          "execution_count": 8
        }
      ]
    },
    {
      "cell_type": "code",
      "metadata": {
        "colab": {
          "base_uri": "https://localhost:8080/"
        },
        "id": "AmFzMH9BIH6a",
        "outputId": "2fd7e067-ca9a-4963-f8c5-322d5b313e8d"
      },
      "source": [
        "# Note that Python will upcast\n",
        "\n",
        "np.array([3.14, 4, 2, 4, 5])\n"
      ],
      "execution_count": null,
      "outputs": [
        {
          "output_type": "execute_result",
          "data": {
            "text/plain": [
              "array([3.14, 4.  , 2.  , 4.  , 5.  ])"
            ]
          },
          "metadata": {
            "tags": []
          },
          "execution_count": 9
        }
      ]
    },
    {
      "cell_type": "code",
      "metadata": {
        "colab": {
          "base_uri": "https://localhost:8080/"
        },
        "id": "yxelne3RIVll",
        "outputId": "cc3a4e62-0480-488d-8561-092518160982"
      },
      "source": [
        "# Or you can be specific on data type\n",
        "\n",
        "np.array([1, 4, 2, 4, 5], dtype='int')\n"
      ],
      "execution_count": null,
      "outputs": [
        {
          "output_type": "execute_result",
          "data": {
            "text/plain": [
              "array([1, 4, 2, 4, 5])"
            ]
          },
          "metadata": {
            "tags": []
          },
          "execution_count": 11
        }
      ]
    },
    {
      "cell_type": "code",
      "metadata": {
        "colab": {
          "base_uri": "https://localhost:8080/"
        },
        "id": "60EhmQmVIhbz",
        "outputId": "c0f7bd4b-77d0-41a5-a819-428f36685821"
      },
      "source": [
        "# Or you can be specific on data type\n",
        "\n",
        "np.array([1, 4, 2, 4, 5], dtype='float32')\n"
      ],
      "execution_count": null,
      "outputs": [
        {
          "output_type": "execute_result",
          "data": {
            "text/plain": [
              "array([1., 4., 2., 4., 5.], dtype=float32)"
            ]
          },
          "metadata": {
            "tags": []
          },
          "execution_count": 12
        }
      ]
    },
    {
      "cell_type": "code",
      "metadata": {
        "colab": {
          "base_uri": "https://localhost:8080/"
        },
        "id": "Ze8GCSg7ItEz",
        "outputId": "8effc154-2a04-49b7-be66-6df5d5967f8a"
      },
      "source": [
        "# But the cool part of the array is multi-dimensionality\n",
        "\n",
        "np.array([range(i, i + 4) for i in [1, 3, 5]])"
      ],
      "execution_count": null,
      "outputs": [
        {
          "output_type": "execute_result",
          "data": {
            "text/plain": [
              "array([[1, 2, 3, 4],\n",
              "       [3, 4, 5, 6],\n",
              "       [5, 6, 7, 8]])"
            ]
          },
          "metadata": {
            "tags": []
          },
          "execution_count": 14
        }
      ]
    },
    {
      "cell_type": "markdown",
      "metadata": {
        "id": "WttlgbcLJYl0"
      },
      "source": [
        "Creating Arrays from Scratch"
      ]
    },
    {
      "cell_type": "code",
      "metadata": {
        "colab": {
          "base_uri": "https://localhost:8080/"
        },
        "id": "B4F0A9S5JO4d",
        "outputId": "0ba16c80-95a4-412a-d28b-f1977f8d4d01"
      },
      "source": [
        "# Creating a one-dimensional array of zeros\n",
        "np.zeros(10, dtype=int)"
      ],
      "execution_count": null,
      "outputs": [
        {
          "output_type": "execute_result",
          "data": {
            "text/plain": [
              "array([0, 0, 0, 0, 0, 0, 0, 0, 0, 0])"
            ]
          },
          "metadata": {
            "tags": []
          },
          "execution_count": 15
        }
      ]
    },
    {
      "cell_type": "code",
      "metadata": {
        "colab": {
          "base_uri": "https://localhost:8080/"
        },
        "id": "L1GmQEY6Jn6K",
        "outputId": "06c47d34-50c1-41c6-b664-b00e35efbc69"
      },
      "source": [
        "# Creating a multi-dimensional array of zeros\n",
        "np.zeros((4,5), dtype=float)"
      ],
      "execution_count": null,
      "outputs": [
        {
          "output_type": "execute_result",
          "data": {
            "text/plain": [
              "array([[0., 0., 0., 0., 0.],\n",
              "       [0., 0., 0., 0., 0.],\n",
              "       [0., 0., 0., 0., 0.],\n",
              "       [0., 0., 0., 0., 0.]])"
            ]
          },
          "metadata": {
            "tags": []
          },
          "execution_count": 16
        }
      ]
    },
    {
      "cell_type": "code",
      "metadata": {
        "colab": {
          "base_uri": "https://localhost:8080/"
        },
        "id": "Sco4L31dJ-o5",
        "outputId": "d7911801-9eb0-4b57-d79f-2db7d47b3251"
      },
      "source": [
        "# Create an array of values evenly spaced between 0 and 1\n",
        "\n",
        "np.linspace(0, 1, 6)"
      ],
      "execution_count": null,
      "outputs": [
        {
          "output_type": "execute_result",
          "data": {
            "text/plain": [
              "array([0. , 0.2, 0.4, 0.6, 0.8, 1. ])"
            ]
          },
          "metadata": {
            "tags": []
          },
          "execution_count": 17
        }
      ]
    },
    {
      "cell_type": "code",
      "metadata": {
        "colab": {
          "base_uri": "https://localhost:8080/"
        },
        "id": "qQHVcpPbKUCK",
        "outputId": "301356e0-b062-4230-e819-b9a0359a8ae6"
      },
      "source": [
        "# Create an array of random values between 0 and 1\n",
        "\n",
        "np.random.random((4,4))"
      ],
      "execution_count": null,
      "outputs": [
        {
          "output_type": "execute_result",
          "data": {
            "text/plain": [
              "array([[0.63569222, 0.11323406, 0.98894906, 0.60866802],\n",
              "       [0.44880064, 0.95463614, 0.31457141, 0.72078951],\n",
              "       [0.839963  , 0.48270354, 0.19727473, 0.51460842],\n",
              "       [0.68425004, 0.8629233 , 0.63033323, 0.74213444]])"
            ]
          },
          "metadata": {
            "tags": []
          },
          "execution_count": 19
        }
      ]
    },
    {
      "cell_type": "code",
      "metadata": {
        "colab": {
          "base_uri": "https://localhost:8080/"
        },
        "id": "PzOOQ9xGLBE8",
        "outputId": "18f5dd9d-6bef-442e-d15c-43682cc32343"
      },
      "source": [
        "# Create an array of normally distributed random values\n",
        "\n",
        "np.random.normal(0, 1, (4,4))"
      ],
      "execution_count": null,
      "outputs": [
        {
          "output_type": "execute_result",
          "data": {
            "text/plain": [
              "array([[-1.40850647, -0.72890327,  0.01676252, -1.17141067],\n",
              "       [-0.39818411,  1.95449469,  1.53604852,  1.02485531],\n",
              "       [-0.62364655, -0.00861244, -0.14301851, -0.49889883],\n",
              "       [-1.37102366,  0.45953243,  0.50663861, -0.4323881 ]])"
            ]
          },
          "metadata": {
            "tags": []
          },
          "execution_count": 20
        }
      ]
    },
    {
      "cell_type": "markdown",
      "metadata": {
        "id": "aA6Ki1nxLwaX"
      },
      "source": [
        "# Attributes & Indexing"
      ]
    },
    {
      "cell_type": "code",
      "metadata": {
        "id": "2mGUOtCOL4fn"
      },
      "source": [
        "# one dimensional array\n",
        "np.random.seed(0)\n",
        "x1 = np.random.randint(10, size=5)\n",
        "\n",
        "# two dimensional array\n",
        "np.random.seed(0)\n",
        "x2 = np.random.randint(10, size=(4, 5))\n",
        "\n",
        "# three dimensional array\n",
        "np.random.seed(0)\n",
        "x3 = np.random.randint(10, size=(3, 4, 5))\n"
      ],
      "execution_count": 27,
      "outputs": []
    },
    {
      "cell_type": "markdown",
      "metadata": {
        "id": "QC2Vte2bp8uK"
      },
      "source": [
        "Each array has the following attributes:  data type, dimension, shape, size, itemsize, and the total size in bytes of the array."
      ]
    },
    {
      "cell_type": "code",
      "metadata": {
        "colab": {
          "base_uri": "https://localhost:8080/"
        },
        "id": "Uh9SaTQDp6_d",
        "outputId": "56ed15d2-e46f-4874-98de-d31d720dd99d"
      },
      "source": [
        "print(\"x3 dtype:         \", x3.dtype)\n",
        "print(\"x3 dimensions:    \", x3.ndim)\n",
        "print(\"x3 shape:         \", x3.shape)\n",
        "print(\"x3 size:          \", x3.size)\n",
        "print(\"x3 element bytes: \", x3.itemsize)\n",
        "print(\"x3 total bytes:   \", x3.nbytes)\n"
      ],
      "execution_count": 23,
      "outputs": [
        {
          "output_type": "stream",
          "text": [
            "x3 dtype:          int64\n",
            "x3 dimensions:     3\n",
            "x3 shape:          (3, 4, 5)\n",
            "x3 size:           60\n",
            "x3 element bytes:  8\n",
            "x3 total bytes:    480\n"
          ],
          "name": "stdout"
        }
      ]
    },
    {
      "cell_type": "markdown",
      "metadata": {
        "id": "3qBAwxYbwMQi"
      },
      "source": [
        "If you recall the indexing of list elements in Python, you should feel comfortable with accessing single elements in an Array\n"
      ]
    },
    {
      "cell_type": "code",
      "metadata": {
        "colab": {
          "base_uri": "https://localhost:8080/"
        },
        "id": "evpocyvDwZXN",
        "outputId": "a600cf36-e949-487a-98ab-806c0bd9ef1c"
      },
      "source": [
        "x2"
      ],
      "execution_count": 28,
      "outputs": [
        {
          "output_type": "execute_result",
          "data": {
            "text/plain": [
              "array([[5, 0, 3, 3, 7],\n",
              "       [9, 3, 5, 2, 4],\n",
              "       [7, 6, 8, 8, 1],\n",
              "       [6, 7, 7, 8, 1]])"
            ]
          },
          "metadata": {
            "tags": []
          },
          "execution_count": 28
        }
      ]
    },
    {
      "cell_type": "code",
      "metadata": {
        "colab": {
          "base_uri": "https://localhost:8080/"
        },
        "id": "991UW5WuwoXh",
        "outputId": "9e9b8da1-2856-485b-a5c4-99316bf2db7a"
      },
      "source": [
        "# First element in the array\n",
        "x2[0,0]"
      ],
      "execution_count": 12,
      "outputs": [
        {
          "output_type": "execute_result",
          "data": {
            "text/plain": [
              "0"
            ]
          },
          "metadata": {
            "tags": []
          },
          "execution_count": 12
        }
      ]
    },
    {
      "cell_type": "code",
      "metadata": {
        "colab": {
          "base_uri": "https://localhost:8080/"
        },
        "id": "ZIYGBiaNw6yn",
        "outputId": "f4ea224c-a8c4-45bb-fe52-e11dbb492bdd"
      },
      "source": [
        "# Last element in the array\n",
        "x2[3, 4]\n",
        "\n",
        "# Notice that the index is Row x Column\n",
        "# Try:\n",
        "# x3[4, 3]"
      ],
      "execution_count": 15,
      "outputs": [
        {
          "output_type": "execute_result",
          "data": {
            "text/plain": [
              "6"
            ]
          },
          "metadata": {
            "tags": []
          },
          "execution_count": 15
        }
      ]
    },
    {
      "cell_type": "code",
      "metadata": {
        "colab": {
          "base_uri": "https://localhost:8080/"
        },
        "id": "nvVPzMeIxUvZ",
        "outputId": "aedb5a1e-3d5e-4d42-ced8-9d2915dc9048"
      },
      "source": [
        "# Another view of last\n",
        "x2[-1, -1]"
      ],
      "execution_count": 16,
      "outputs": [
        {
          "output_type": "execute_result",
          "data": {
            "text/plain": [
              "6"
            ]
          },
          "metadata": {
            "tags": []
          },
          "execution_count": 16
        }
      ]
    },
    {
      "cell_type": "code",
      "metadata": {
        "colab": {
          "base_uri": "https://localhost:8080/"
        },
        "id": "7TorU9SjxfFB",
        "outputId": "bed1385a-d9bd-4b11-c4b8-9babd095f46e"
      },
      "source": [
        "# Simple to change value of element\n",
        "x2[0, 0]=28\n",
        "x2"
      ],
      "execution_count": 29,
      "outputs": [
        {
          "output_type": "execute_result",
          "data": {
            "text/plain": [
              "array([[28,  0,  3,  3,  7],\n",
              "       [ 9,  3,  5,  2,  4],\n",
              "       [ 7,  6,  8,  8,  1],\n",
              "       [ 6,  7,  7,  8,  1]])"
            ]
          },
          "metadata": {
            "tags": []
          },
          "execution_count": 29
        }
      ]
    },
    {
      "cell_type": "code",
      "metadata": {
        "colab": {
          "base_uri": "https://localhost:8080/"
        },
        "id": "SDFmGyrqxqP3",
        "outputId": "96040dfb-ec5c-4d9e-a28a-58b4558dc0c7"
      },
      "source": [
        "# And with the seed - simple to revert to original\n",
        "np.random.seed(0)\n",
        "x2 = np.random.randint(10, size=(4, 5))\n",
        "x2"
      ],
      "execution_count": 30,
      "outputs": [
        {
          "output_type": "execute_result",
          "data": {
            "text/plain": [
              "array([[5, 0, 3, 3, 7],\n",
              "       [9, 3, 5, 2, 4],\n",
              "       [7, 6, 8, 8, 1],\n",
              "       [6, 7, 7, 8, 1]])"
            ]
          },
          "metadata": {
            "tags": []
          },
          "execution_count": 30
        }
      ]
    },
    {
      "cell_type": "markdown",
      "metadata": {
        "id": "O5EKiD_EE0YA"
      },
      "source": [
        "# Slicing & Shaping"
      ]
    },
    {
      "cell_type": "markdown",
      "metadata": {
        "id": "K38rnba-0uR6"
      },
      "source": [
        "And if we can index the array, we can slice the array\n"
      ]
    },
    {
      "cell_type": "code",
      "metadata": {
        "colab": {
          "base_uri": "https://localhost:8080/"
        },
        "id": "2SC6TBrf01aq",
        "outputId": "35065ffb-0a54-4c4d-c6c5-4cdc187196c6"
      },
      "source": [
        "# Take two rows and three columns from x2\n",
        "\n",
        "x2[:2, :3]"
      ],
      "execution_count": 32,
      "outputs": [
        {
          "output_type": "execute_result",
          "data": {
            "text/plain": [
              "array([[5, 0, 3],\n",
              "       [9, 3, 5]])"
            ]
          },
          "metadata": {
            "tags": []
          },
          "execution_count": 32
        }
      ]
    },
    {
      "cell_type": "code",
      "metadata": {
        "colab": {
          "base_uri": "https://localhost:8080/"
        },
        "id": "xn23L2Je1CzJ",
        "outputId": "c8c0a251-3eef-45a4-c948-8b3ee35af0ff"
      },
      "source": [
        "# Take three rows and two columns from x2\n",
        "x2[:3, :2]"
      ],
      "execution_count": 33,
      "outputs": [
        {
          "output_type": "execute_result",
          "data": {
            "text/plain": [
              "array([[5, 0],\n",
              "       [9, 3],\n",
              "       [7, 6]])"
            ]
          },
          "metadata": {
            "tags": []
          },
          "execution_count": 33
        }
      ]
    },
    {
      "cell_type": "code",
      "metadata": {
        "colab": {
          "base_uri": "https://localhost:8080/"
        },
        "id": "FVzDy4tp1LUD",
        "outputId": "4235a2a6-9f85-429b-9597-ab74bb768e30"
      },
      "source": [
        "# Take all rows but every other column\n",
        "# Remember the syntax is array[start:stop:step]\n",
        "\n",
        "x2[:4, ::2]"
      ],
      "execution_count": 34,
      "outputs": [
        {
          "output_type": "execute_result",
          "data": {
            "text/plain": [
              "array([[5, 3, 7],\n",
              "       [9, 5, 4],\n",
              "       [7, 8, 1],\n",
              "       [6, 7, 1]])"
            ]
          },
          "metadata": {
            "tags": []
          },
          "execution_count": 34
        }
      ]
    },
    {
      "cell_type": "code",
      "metadata": {
        "colab": {
          "base_uri": "https://localhost:8080/"
        },
        "id": "Km9c8qkU1umO",
        "outputId": "af4d2325-89c7-4ec4-de1d-76475449530a"
      },
      "source": [
        "# And we can even reverse the entire array\n",
        "\n",
        "x2[::-1, ::-1]"
      ],
      "execution_count": 35,
      "outputs": [
        {
          "output_type": "execute_result",
          "data": {
            "text/plain": [
              "array([[1, 8, 7, 7, 6],\n",
              "       [1, 8, 8, 6, 7],\n",
              "       [4, 2, 5, 3, 9],\n",
              "       [7, 3, 3, 0, 5]])"
            ]
          },
          "metadata": {
            "tags": []
          },
          "execution_count": 35
        }
      ]
    },
    {
      "cell_type": "code",
      "metadata": {
        "colab": {
          "base_uri": "https://localhost:8080/"
        },
        "id": "KPuC0YTp2Pph",
        "outputId": "f6bc9277-494f-4eae-9f5c-a632673d0c1d"
      },
      "source": [
        "# We can also reshape from a list of 9 values to a 3 by 3 grid\n",
        "grid = np.arange(1,10).reshape(3,3)\n",
        "print(grid)"
      ],
      "execution_count": 40,
      "outputs": [
        {
          "output_type": "stream",
          "text": [
            "[[1 2 3]\n",
            " [4 5 6]\n",
            " [7 8 9]]\n"
          ],
          "name": "stdout"
        }
      ]
    },
    {
      "cell_type": "markdown",
      "metadata": {
        "id": "r25Pr9O2E_3L"
      },
      "source": [
        "# Universal Functions\n"
      ]
    },
    {
      "cell_type": "code",
      "metadata": {
        "id": "ssDNvd07FMi-"
      },
      "source": [
        "# Computation on arrays can be fast or slow - the key is using Numpy's universal\n",
        "# functions to use vectorized operations\n",
        "# Let's imagine we have a large array and want to calculate the reciprocal of \n",
        "# each element "
      ],
      "execution_count": null,
      "outputs": []
    },
    {
      "cell_type": "code",
      "metadata": {
        "colab": {
          "base_uri": "https://localhost:8080/"
        },
        "id": "x3yr_OhTMWl3",
        "outputId": "0119a0ab-7ab4-4252-f0a5-823eee24fdc2"
      },
      "source": [
        "np.random.seed(0)\n",
        "\n",
        "def compute_reciprocals(values):\n",
        "    output = np.empty(len(values))\n",
        "    for i in range(len(values)):\n",
        "      output[i] = 1.0 / values[i]\n",
        "    return output\n",
        "\n",
        "values = np.random.randint(1, 10, size = 5)\n",
        "compute_reciprocals(values)"
      ],
      "execution_count": 53,
      "outputs": [
        {
          "output_type": "execute_result",
          "data": {
            "text/plain": [
              "array([0.16666667, 1.        , 0.25      , 0.25      , 0.125     ])"
            ]
          },
          "metadata": {
            "tags": []
          },
          "execution_count": 53
        }
      ]
    },
    {
      "cell_type": "markdown",
      "metadata": {
        "id": "6uHcPrbANGsD"
      },
      "source": [
        "The above function accepts some values and then calculates the reciprocal of each element.  While it seems quick - remember - the array only has five elements - what happens with a larger array?"
      ]
    },
    {
      "cell_type": "code",
      "metadata": {
        "colab": {
          "base_uri": "https://localhost:8080/"
        },
        "id": "SvBUPyJHNbBb",
        "outputId": "189c4271-5d10-44cd-b39b-d8415931846e"
      },
      "source": [
        "np.random.seed(0)\n",
        "big_array = np.random.randint(1, 100, size = 10000000)\n",
        "%timeit compute_reciprocals(big_array)"
      ],
      "execution_count": 54,
      "outputs": [
        {
          "output_type": "stream",
          "text": [
            "1 loop, best of 5: 23.1 s per loop\n"
          ],
          "name": "stdout"
        }
      ]
    },
    {
      "cell_type": "markdown",
      "metadata": {
        "id": "Q-247t0cOWu6"
      },
      "source": [
        "Whoa - that is a long time (your runtime might vary) - lets examine how we can force python to use the compiled layer of numpy for faster execution."
      ]
    },
    {
      "cell_type": "code",
      "metadata": {
        "colab": {
          "base_uri": "https://localhost:8080/"
        },
        "id": "RU4DnmgAOtxf",
        "outputId": "c8f7cfb5-86ec-44b3-e1a2-dba606884306"
      },
      "source": [
        "# Just to make sure we get the same results\n",
        "\n",
        "print(compute_reciprocals(values))\n",
        "print(1.0 / values)"
      ],
      "execution_count": 55,
      "outputs": [
        {
          "output_type": "stream",
          "text": [
            "[0.16666667 1.         0.25       0.25       0.125     ]\n",
            "[0.16666667 1.         0.25       0.25       0.125     ]\n"
          ],
          "name": "stdout"
        }
      ]
    },
    {
      "cell_type": "code",
      "metadata": {
        "colab": {
          "base_uri": "https://localhost:8080/"
        },
        "id": "kCq4YMyaO29O",
        "outputId": "5a5ab916-118f-4f7a-9f7a-3b36d265e737"
      },
      "source": [
        "# Now lets look at runtime for the big array\n",
        "\n",
        "%timeit (1.0 / big_array)"
      ],
      "execution_count": 56,
      "outputs": [
        {
          "output_type": "stream",
          "text": [
            "10 loops, best of 5: 18.4 ms per loop\n"
          ],
          "name": "stdout"
        }
      ]
    },
    {
      "cell_type": "markdown",
      "metadata": {
        "id": "yZ1lo0thPBcC"
      },
      "source": [
        "That is a lot faster - but what else can we do?  Basically math :)"
      ]
    },
    {
      "cell_type": "code",
      "metadata": {
        "colab": {
          "base_uri": "https://localhost:8080/"
        },
        "id": "Tim5oGBKPGzm",
        "outputId": "5fdf5dae-a920-4daa-bd13-54e206651188"
      },
      "source": [
        "x = np.arange(5)\n",
        "print(\"x =     \", x)\n",
        "print(\"x + 5 = \", x + 5)\n",
        "print(\"x - 5 = \", x - 5)\n",
        "print(\"x * 2 = \", x * 2)\n",
        "print(\"x / 2 = \", x / 2)\n"
      ],
      "execution_count": 57,
      "outputs": [
        {
          "output_type": "stream",
          "text": [
            "x =  [0 1 2 3 4]\n",
            "x + 5 =  [5 6 7 8 9]\n",
            "x - 5 =  [-5 -4 -3 -2 -1]\n",
            "x * 2 =  [0 2 4 6 8]\n",
            "x / 2 =  [0.  0.5 1.  1.5 2. ]\n"
          ],
          "name": "stdout"
        }
      ]
    },
    {
      "cell_type": "code",
      "metadata": {
        "colab": {
          "base_uri": "https://localhost:8080/"
        },
        "id": "PoT5F4lnPovi",
        "outputId": "1784b531-aaf0-49b6-989a-3dd53b288815"
      },
      "source": [
        "# And for those of you wanting more?\n",
        "# % is the modulus\n",
        "# ** exponent\n",
        "\n",
        "print(\"-x =     \", -x)\n",
        "print(\"x % 2 =  \", x % 2)\n",
        "print(\"x ** 2 = \", x * 2)"
      ],
      "execution_count": 58,
      "outputs": [
        {
          "output_type": "stream",
          "text": [
            "-x =      [ 0 -1 -2 -3 -4]\n",
            "x % 2 =   [0 1 0 1 0]\n",
            "x ** 2 =  [0 2 4 6 8]\n"
          ],
          "name": "stdout"
        }
      ]
    },
    {
      "cell_type": "markdown",
      "metadata": {
        "id": "2pcqNrN2Fj4s"
      },
      "source": [
        "# Aggregations"
      ]
    },
    {
      "cell_type": "code",
      "metadata": {
        "colab": {
          "base_uri": "https://localhost:8080/"
        },
        "id": "9KBohGVwFnn0",
        "outputId": "29dc063e-704d-459d-84c5-2cf95a0d3ca4"
      },
      "source": [
        "# Python has a built in function for summing an object\n",
        "sum(grid)"
      ],
      "execution_count": 41,
      "outputs": [
        {
          "output_type": "execute_result",
          "data": {
            "text/plain": [
              "array([12, 15, 18])"
            ]
          },
          "metadata": {
            "tags": []
          },
          "execution_count": 41
        }
      ]
    },
    {
      "cell_type": "code",
      "metadata": {
        "colab": {
          "base_uri": "https://localhost:8080/"
        },
        "id": "B8ItgGk1HCDF",
        "outputId": "11dceedb-4a80-4548-a32b-ebce4066f288"
      },
      "source": [
        "# As you can see - the default sum calculates the sum of each column \n",
        "# in the array\n",
        "# For calculating the sum of the array we want np.sum()\n",
        "\n",
        "np.sum(grid)"
      ],
      "execution_count": 42,
      "outputs": [
        {
          "output_type": "execute_result",
          "data": {
            "text/plain": [
              "45"
            ]
          },
          "metadata": {
            "tags": []
          },
          "execution_count": 42
        }
      ]
    },
    {
      "cell_type": "code",
      "metadata": {
        "colab": {
          "base_uri": "https://localhost:8080/"
        },
        "id": "wP3SZS6JHfkD",
        "outputId": "abd505a9-1882-4c5f-8020-36632878e5aa"
      },
      "source": [
        "# The min and max functions work similarly\n",
        "\n",
        "np.min(grid), np.max(grid)"
      ],
      "execution_count": 44,
      "outputs": [
        {
          "output_type": "execute_result",
          "data": {
            "text/plain": [
              "(1, 9)"
            ]
          },
          "metadata": {
            "tags": []
          },
          "execution_count": 44
        }
      ]
    },
    {
      "cell_type": "markdown",
      "metadata": {
        "id": "4O7XhMbUIGuy"
      },
      "source": [
        "# Example - average height"
      ]
    },
    {
      "cell_type": "code",
      "metadata": {
        "colab": {
          "base_uri": "https://localhost:8080/"
        },
        "id": "-KanP18_IPkw",
        "outputId": "5e72cbab-e923-411c-a7b3-4b9ac70f4418"
      },
      "source": [
        "# The following example moves us closer to an analytical problem\n",
        "# We will use Pandas to read in the data but will use array functions\n",
        "# to explore the data\n",
        "\n",
        "import pandas as pd\n",
        "data = pd.read_csv(\"https://raw.githubusercontent.com/BoomerPython/Week_3/main/president_heights.csv\")\n",
        "heights = np.array(data['height(cm)'])\n",
        "print(heights)"
      ],
      "execution_count": 45,
      "outputs": [
        {
          "output_type": "stream",
          "text": [
            "[189 170 189 163 183 171 185 168 173 183 173 173 175 178 183 193 178 173\n",
            " 174 183 183 168 170 178 182 180 183 178 182 188 175 179 183 193 182 183\n",
            " 177 185 188 188 182 185]\n"
          ],
          "name": "stdout"
        }
      ]
    },
    {
      "cell_type": "code",
      "metadata": {
        "colab": {
          "base_uri": "https://localhost:8080/"
        },
        "id": "hGkcBu5tJjof",
        "outputId": "4159dc02-a02c-43e1-c8b1-74220ce99c8e"
      },
      "source": [
        "# Summary statistics are easy\n",
        "\n",
        "print(\"Mean height:             \", heights.mean())\n",
        "print(\"Standard Deviation:      \", heights.std())\n",
        "print(\"Minimum height:          \", heights.min())\n",
        "print(\"Maximum height:          \", heights.max())\n"
      ],
      "execution_count": 46,
      "outputs": [
        {
          "output_type": "stream",
          "text": [
            "Mean height:              179.73809523809524\n",
            "Standard Deviation:       6.931843442745892\n",
            "Minimum height:           163\n",
            "Maximum height:           193\n"
          ],
          "name": "stdout"
        }
      ]
    },
    {
      "cell_type": "code",
      "metadata": {
        "colab": {
          "base_uri": "https://localhost:8080/"
        },
        "id": "vn3pBH4UKAPt",
        "outputId": "dd3e1baa-6381-47cc-e0e2-3d60784b323d"
      },
      "source": [
        "# Quartiles are also easy\n",
        "\n",
        "print(\"25th percentile:   \", np.percentile(heights, 25))\n",
        "print(\"Median:            \", np.median(heights))\n",
        "print(\"75th percentile:   \", np.percentile(heights, 75))\n"
      ],
      "execution_count": 47,
      "outputs": [
        {
          "output_type": "stream",
          "text": [
            "25th percentile:    174.25\n",
            "Median:             182.0\n",
            "75th percentile:    183.0\n"
          ],
          "name": "stdout"
        }
      ]
    },
    {
      "cell_type": "code",
      "metadata": {
        "colab": {
          "base_uri": "https://localhost:8080/",
          "height": 325
        },
        "id": "0CWmPQZ5KuYj",
        "outputId": "92834e4e-3758-404f-d938-37fd5a52eb03"
      },
      "source": [
        "# Plots are easy - more on that Week 4\n",
        "\n",
        "import matplotlib.pyplot as plt\n",
        "import matplotlib.style as style\n",
        "\n",
        "style.use('fivethirtyeight')\n",
        "\n",
        "plt.hist(heights)\n",
        "plt.title('Heights of US Presidents')\n",
        "plt.xlabel('height (cm)')\n",
        "plt.ylabel('Number');"
      ],
      "execution_count": 52,
      "outputs": [
        {
          "output_type": "display_data",
          "data": {
            "image/png": "[encoded data removed]",
            "text/plain": [
              "<Figure size 432x288 with 1 Axes>"
            ]
          },
          "metadata": {
            "tags": []
          }
        }
      ]
    }
  ]
}
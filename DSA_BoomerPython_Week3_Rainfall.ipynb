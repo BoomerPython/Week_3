{
  "nbformat": 4,
  "nbformat_minor": 0,
  "metadata": {
    "colab": {
      "name": "DSA_BoomerPython_Week3_Rainfall.ipynb",
      "provenance": [],
      "authorship_tag": "ABX9TyPLWKNCvf55ClBeNW/pKBuY",
      "include_colab_link": true
    },
    "kernelspec": {
      "name": "python3",
      "display_name": "Python 3"
    },
    "language_info": {
      "name": "python"
    }
  },
  "cells": [
    {
      "cell_type": "markdown",
      "metadata": {
        "id": "view-in-github",
        "colab_type": "text"
      },
      "source": [
        "<a href=\"https://colab.research.google.com/github/BoomerPython/Week_3/blob/main/DSA_BoomerPython_Week3_Rainfall.ipynb\" target=\"_parent\"><img src=\"https://colab.research.google.com/assets/colab-badge.svg\" alt=\"Open In Colab\"/></a>"
      ]
    },
    {
      "cell_type": "code",
      "metadata": {
        "id": "K710AItzDej1"
      },
      "source": [
        "# Seattle Rainfall\n",
        "# Based on vanderPlas(2017)\n",
        "\n",
        "import numpy as np\n",
        "import pandas as pd\n"
      ],
      "execution_count": 2,
      "outputs": []
    },
    {
      "cell_type": "code",
      "metadata": {
        "id": "9Sw7CxnuD2h6"
      },
      "source": [
        "# Obtain Data\n",
        "\n",
        "# The following command will use pandas to read just the precipitation values \n",
        "# (PRCP) from a csv file stored in github\n",
        "\n",
        "fileLoc = \"https://raw.githubusercontent.com/BoomerPython/Week_3/main/Seattle2014.csv\"\n",
        "rainfall = pd.read_csv(fileLoc)['PRCP'].values\n"
      ],
      "execution_count": 5,
      "outputs": []
    },
    {
      "cell_type": "code",
      "metadata": {
        "id": "VLg07-HjFw4v"
      },
      "source": [
        "# Scrub Data\n",
        "\n",
        "# The following command will create an array (inches) built by dividing the\n",
        "# PRCP.values by 245 to convert from mm to inches\n",
        "\n",
        "inches = rainfall / 254"
      ],
      "execution_count": 6,
      "outputs": []
    },
    {
      "cell_type": "code",
      "metadata": {
        "colab": {
          "base_uri": "https://localhost:8080/"
        },
        "id": "Lelj9fDAFsQf",
        "outputId": "adf1d875-1395-4d15-c22c-f200ca3ae2f5"
      },
      "source": [
        "# Explore Data\n",
        "\n",
        "# The following command will display the shape of the array\n",
        "# Should be 365 daily values from 2014\n",
        "\n",
        "inches.shape"
      ],
      "execution_count": 7,
      "outputs": [
        {
          "output_type": "execute_result",
          "data": {
            "text/plain": [
              "(365,)"
            ]
          },
          "metadata": {
            "tags": []
          },
          "execution_count": 7
        }
      ]
    },
    {
      "cell_type": "code",
      "metadata": {
        "colab": {
          "base_uri": "https://localhost:8080/",
          "height": 675
        },
        "id": "wkAwTdy9Gfee",
        "outputId": "64929b82-d6a5-4a1e-c08f-e2389de10614"
      },
      "source": [
        "# Explore Data\n",
        "# We will see more about visualization in Week 4 - consider this a teaser\n",
        "# We will use matplotlib\n",
        "\n",
        "import matplotlib.pyplot as plt\n",
        "import matplotlib.style as style\n",
        "\n",
        "style.use('fivethirtyeight')\n",
        "\n",
        "plt.hist(inches, 40, data=None)"
      ],
      "execution_count": 18,
      "outputs": [
        {
          "output_type": "execute_result",
          "data": {
            "text/plain": [
              "(array([245.,  14.,  13.,  17.,   8.,   6.,   5.,   6.,   4.,   3.,   7.,\n",
              "          6.,   3.,   3.,   3.,   4.,   4.,   2.,   4.,   0.,   0.,   1.,\n",
              "          1.,   1.,   0.,   0.,   0.,   2.,   1.,   1.,   0.,   0.,   0.,\n",
              "          0.,   0.,   0.,   0.,   0.,   0.,   1.]),\n",
              " array([0.        , 0.04596457, 0.09192913, 0.1378937 , 0.18385827,\n",
              "        0.22982283, 0.2757874 , 0.32175197, 0.36771654, 0.4136811 ,\n",
              "        0.45964567, 0.50561024, 0.5515748 , 0.59753937, 0.64350394,\n",
              "        0.6894685 , 0.73543307, 0.78139764, 0.8273622 , 0.87332677,\n",
              "        0.91929134, 0.96525591, 1.01122047, 1.05718504, 1.10314961,\n",
              "        1.14911417, 1.19507874, 1.24104331, 1.28700787, 1.33297244,\n",
              "        1.37893701, 1.42490157, 1.47086614, 1.51683071, 1.56279528,\n",
              "        1.60875984, 1.65472441, 1.70068898, 1.74665354, 1.79261811,\n",
              "        1.83858268]),\n",
              " <a list of 40 Patch objects>)"
            ]
          },
          "metadata": {
            "tags": []
          },
          "execution_count": 18
        },
        {
          "output_type": "display_data",
          "data": {
            "image/png": "[encoded data removed]",
            "text/plain": [
              "<Figure size 640x440 with 1 Axes>"
            ]
          },
          "metadata": {
            "tags": []
          }
        }
      ]
    },
    {
      "cell_type": "code",
      "metadata": {
        "colab": {
          "base_uri": "https://localhost:8080/"
        },
        "id": "V2HLjX85Idz1",
        "outputId": "ebe50a98-b310-4567-c857-5d9f731ce9ef"
      },
      "source": [
        "# Working with Boolean Arrays\n",
        "# How can we explore rainy days in Seattle?\n",
        "\n",
        "# How many days with more than 2 inches of rain?\n",
        "np.sum(inches > 2)"
      ],
      "execution_count": 19,
      "outputs": [
        {
          "output_type": "execute_result",
          "data": {
            "text/plain": [
              "0"
            ]
          },
          "metadata": {
            "tags": []
          },
          "execution_count": 19
        }
      ]
    },
    {
      "cell_type": "code",
      "metadata": {
        "colab": {
          "base_uri": "https://localhost:8080/"
        },
        "id": "4gH2Qp8dJDXA",
        "outputId": "bcae1dde-2845-4504-d87d-9214eeb18bbf"
      },
      "source": [
        "# Hmmm - Thought it was rainy there?\n",
        "# How many days with less than 4 inches of rain?\n",
        "\n",
        "np.sum(inches < 4)"
      ],
      "execution_count": 20,
      "outputs": [
        {
          "output_type": "execute_result",
          "data": {
            "text/plain": [
              "365"
            ]
          },
          "metadata": {
            "tags": []
          },
          "execution_count": 20
        }
      ]
    },
    {
      "cell_type": "code",
      "metadata": {
        "colab": {
          "base_uri": "https://localhost:8080/"
        },
        "id": "_XL2-CtDJPae",
        "outputId": "381c16ec-3ceb-4044-ce18-7c65b3300e6b"
      },
      "source": [
        "# Hmmm - still not very helpful\n",
        "# How about the number of days with more than a half inch\n",
        "# and less than an inch?\n",
        "\n",
        "np.sum((inches > 0.5) & (inches < 1))"
      ],
      "execution_count": 21,
      "outputs": [
        {
          "output_type": "execute_result",
          "data": {
            "text/plain": [
              "29"
            ]
          },
          "metadata": {
            "tags": []
          },
          "execution_count": 21
        }
      ]
    },
    {
      "cell_type": "code",
      "metadata": {
        "colab": {
          "base_uri": "https://localhost:8080/"
        },
        "id": "NwllR7tuJmQ-",
        "outputId": "7b598e35-dd93-48a4-b313-74d55f34c3bb"
      },
      "source": [
        "# Consider exploring different ways to ask the question?\n",
        "# How many days was the rainfall NOT less than or equal to a half inch\n",
        "# or was the rainfall greater than or equal to an inch?\n",
        "\n",
        "np.sum(~((inches <= 0.5) | (inches >= 1) ))"
      ],
      "execution_count": 22,
      "outputs": [
        {
          "output_type": "execute_result",
          "data": {
            "text/plain": [
              "29"
            ]
          },
          "metadata": {
            "tags": []
          },
          "execution_count": 22
        }
      ]
    },
    {
      "cell_type": "code",
      "metadata": {
        "colab": {
          "base_uri": "https://localhost:8080/"
        },
        "id": "nHhjunViKOuT",
        "outputId": "03bacb29-9933-476b-9b1f-ab390544e508"
      },
      "source": [
        "# Remember what we learned about formatting output from FoP?\n",
        "\n",
        "print(\"Number of days without rain:                       \", np.sum(inches == 0))\n",
        "print(\"Number of days with rain:                          \", np.sum(inches != 0))\n",
        "print(\"Number of days with more than 0.5 inches of rain:  \", np.sum(inches > 0.5))\n",
        "print(\"Number of days with less than 0.1 inches of rain:  \", np.sum((inches > 0) & \n",
        "                                                                    (inches < 0.2)))\n"
      ],
      "execution_count": 23,
      "outputs": [
        {
          "output_type": "stream",
          "text": [
            "Number of days without rain:                        215\n",
            "Number of days with rain:                           150\n",
            "Number of days with more than 0.5 inches of rain:   37\n",
            "Number of days with less than 0.1 inches of rain:   75\n"
          ],
          "name": "stdout"
        }
      ]
    }
  ]
}